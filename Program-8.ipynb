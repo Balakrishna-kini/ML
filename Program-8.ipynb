{
 "cells": [
  {
   "cell_type": "code",
   "execution_count": null,
   "id": "ee8b4a48",
   "metadata": {},
   "outputs": [],
   "source": [
    "import numpy as np\n",
    "import pandas as pd\n",
    "import matplotlib.pyplot as plt\n",
    "import seaborn as sns\n",
    "from sklearn.model_selection import train_test_split\n",
    "from sklearn.tree import DecisionTreeClassifier,plot_tree\n",
    "from sklearn.metrics import accuracy_score,classification_report,confusion_matrix\n",
    "from sklearn.tree import export_graphviz\n",
    "from IPython.display import Image\n",
    "import pydotplus\n",
    "import warnings\n",
    "warnings.filterwarnings('ignore')"
   ]
  },
  {
   "cell_type": "code",
   "execution_count": null,
   "id": "77c80459",
   "metadata": {},
   "outputs": [],
   "source": [
    "data = pd.read_csv('breast-cancer.csv')"
   ]
  },
  {
   "cell_type": "code",
   "execution_count": null,
   "id": "bdffa41d",
   "metadata": {
    "scrolled": true
   },
   "outputs": [],
   "source": [
    "data.head()"
   ]
  },
  {
   "cell_type": "code",
   "execution_count": null,
   "id": "a6da9f2c",
   "metadata": {},
   "outputs": [],
   "source": [
    "data.shape"
   ]
  },
  {
   "cell_type": "code",
   "execution_count": null,
   "id": "8e9574d0",
   "metadata": {
    "scrolled": true
   },
   "outputs": [],
   "source": [
    "data.isnull().sum()"
   ]
  },
  {
   "cell_type": "code",
   "execution_count": null,
   "id": "53ccf0cc",
   "metadata": {},
   "outputs": [],
   "source": [
    "df = data.drop(['id'],axis=1)"
   ]
  },
  {
   "cell_type": "code",
   "execution_count": null,
   "id": "dc9f83a8",
   "metadata": {},
   "outputs": [],
   "source": [
    "df.head()"
   ]
  },
  {
   "cell_type": "code",
   "execution_count": null,
   "id": "dc70a79a",
   "metadata": {},
   "outputs": [],
   "source": [
    "df['diagnosis']=df['diagnosis'].map({'M':1,'B':0})"
   ]
  },
  {
   "cell_type": "code",
   "execution_count": null,
   "id": "ebc266d1",
   "metadata": {},
   "outputs": [],
   "source": [
    "X =df.drop('diagnosis',axis=1) #drop diagnosis column(target)\n",
    "y=df['diagnosis']"
   ]
  },
  {
   "cell_type": "code",
   "execution_count": null,
   "id": "a8d9aeeb",
   "metadata": {},
   "outputs": [],
   "source": [
    "X_train, X_test,y_train,y_test=train_test_split(X,y,test_size=0.2,random_state=42)"
   ]
  },
  {
   "cell_type": "code",
   "execution_count": null,
   "id": "d880c468",
   "metadata": {},
   "outputs": [],
   "source": [
    "y.head()"
   ]
  },
  {
   "cell_type": "code",
   "execution_count": null,
   "id": "a6967032",
   "metadata": {},
   "outputs": [],
   "source": [
    "model = DecisionTreeClassifier(criterion='entropy')\n",
    "model.fit(X_train,y_train)\n",
    "model"
   ]
  },
  {
   "cell_type": "code",
   "execution_count": null,
   "id": "de3b3aaa",
   "metadata": {},
   "outputs": [],
   "source": [
    "import math\n",
    "def entropy(column):\n",
    "    counts = column.value_counts()\n",
    "    probabilities = counts/len(column)\n",
    "    return -sum(probabilities*probabilities.apply(math.log2))\n",
    "def conditional_entropy(data,X,target):\n",
    "    feature_values=data[X].unique()\n",
    "    weighted_entropy=0\n",
    "    for value in feature_values:\n",
    "        subset=data[data[feature]==value]\n",
    "        weighted_entropy+=(len(subset)/len(data))*entropy(subset[target])\n",
    "        return weighted_entropy\n",
    "def information_gain(data,X,target):\n",
    "    total_entropy=entropy(data[target])\n",
    "    feature_conditional_entropy=conditional_entropy(data,X,target)\n",
    "    return total_entropy-feature_conditional_entropy\n",
    "for feature in X:\n",
    "    ig=information_gain(df,feature,'diagnosis')\n",
    "    print(f\"Information Gain for {feature}:{ig}\")"
   ]
  },
  {
   "cell_type": "code",
   "execution_count": null,
   "id": "f8fec310",
   "metadata": {},
   "outputs": [],
   "source": [
    "y_pred=model.predict(X_test)\n",
    "y_pred"
   ]
  },
  {
   "cell_type": "code",
   "execution_count": null,
   "id": "92afbafa",
   "metadata": {},
   "outputs": [],
   "source": [
    "accuracy= accuracy_score(y_test,y_pred)*100\n",
    "classification_rep=classification_report(y_test,y_pred)\n",
    "\n",
    "print('Accuracy: ',accuracy)\n",
    "print('Classification Report:\\n',classification_rep)"
   ]
  },
  {
   "cell_type": "code",
   "execution_count": null,
   "id": "8951ee3c",
   "metadata": {},
   "outputs": [],
   "source": [
    "new=[[12.5,19.2,80.0,500.0,0.085,0.1,0.05,0.02,0.17,0.06,0.4,1.0,2.5,40.0,0.006,0.02,0.03,0.01,0.02,0.003,16.0,25.0,105.0,900.0,0.13,0.25,0.28,0.12,0.29,0.08]]\n",
    "y_pred=model.predict(new)\n",
    "if y_pred[0]==0:\n",
    "    print('Prediction:Benign')\n",
    "else:\n",
    "    print('Prediction: Malignant')\n",
    "        "
   ]
  },
  {
   "cell_type": "code",
   "execution_count": null,
   "id": "26903dc5",
   "metadata": {},
   "outputs": [],
   "source": []
  }
 ],
 "metadata": {
  "kernelspec": {
   "display_name": "Python 3 (ipykernel)",
   "language": "python",
   "name": "python3"
  },
  "language_info": {
   "codemirror_mode": {
    "name": "ipython",
    "version": 3
   },
   "file_extension": ".py",
   "mimetype": "text/x-python",
   "name": "python",
   "nbconvert_exporter": "python",
   "pygments_lexer": "ipython3",
   "version": "3.12.4"
  }
 },
 "nbformat": 4,
 "nbformat_minor": 5
}
