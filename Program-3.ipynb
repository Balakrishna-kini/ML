{
 "cells": [
  {
   "cell_type": "markdown",
   "id": "45b64099",
   "metadata": {},
   "source": [
    "## PROGRAM 3\n"
   ]
  },
  {
   "cell_type": "code",
   "execution_count": null,
   "id": "f5074885",
   "metadata": {},
   "outputs": [],
   "source": [
    "import pandas as pd\n",
    "import numpy as np\n",
    "import seaborn as sns\n",
    "import matplotlib.pyplot as plt\n",
    "from mpl_toolkits.mplot3d import Axes3D\n",
    "from sklearn import datasets\n",
    "from sklearn.preprocessing import StandardScaler\n",
    "from sklearn.decomposition import PCA"
   ]
  },
  {
   "cell_type": "code",
   "execution_count": null,
   "id": "f503fd87",
   "metadata": {},
   "outputs": [],
   "source": [
    "iris=datasets.load_iris()\n",
    "x=iris.data\n",
    "y=iris.target"
   ]
  },
  {
   "cell_type": "code",
   "execution_count": null,
   "id": "e0be36b3",
   "metadata": {},
   "outputs": [],
   "source": [
    "scaler =StandardScaler() #give the mean and sutract the one means to get one matrix\n",
    "X_scaled=scaler.fit_transform(x)"
   ]
  },
  {
   "cell_type": "code",
   "execution_count": null,
   "id": "d17de930",
   "metadata": {},
   "outputs": [],
   "source": [
    "fig=plt.figure(figsize=(10,10))\n",
    "ax = fig.add_subplot(111,projection='3d')\n",
    "colors = ['red','green','blue']\n",
    "labels = iris.target_names\n",
    "\n",
    "for i in range(len(colors)):\n",
    "    ax.scatter(X_scaled[y==i,0],X_scaled[y==i,1],X_scaled[y==i,2],color=colors[i],label=labels[i])\n",
    "ax.set_xlabel('Sepal length')\n",
    "ax.set_ylabel('Sepal width')  \n",
    "ax.set_zlabel('Petal length')\n",
    "ax.set_title('3D Visualization of iris data before PCA ')\n",
    "plt.legend()\n",
    "plt.show()"
   ]
  },
  {
   "cell_type": "code",
   "execution_count": null,
   "id": "2cf08ebb",
   "metadata": {},
   "outputs": [],
   "source": [
    "cov_matrix=np.cov(X_scaled.T)\n",
    "print(cov_matrix)"
   ]
  },
  {
   "cell_type": "code",
   "execution_count": null,
   "id": "6caa74cc",
   "metadata": {},
   "outputs": [],
   "source": [
    "eigenvalues,eigenvectors = np.linalg.eig(cov_matrix)\n",
    "print(\"Eigenvalues:\",eigenvalues)\n",
    "print(\"Eigenvectors:\\n\",eigenvectors)"
   ]
  },
  {
   "cell_type": "code",
   "execution_count": null,
   "id": "14522e0b",
   "metadata": {},
   "outputs": [],
   "source": [
    "U, S, Vt =np.linalg.svd(X_scaled,full_matrices=False)\n",
    "print(\"Singular Values : \",S)"
   ]
  },
  {
   "cell_type": "code",
   "execution_count": null,
   "id": "589e22c7",
   "metadata": {},
   "outputs": [],
   "source": [
    "pca = PCA(n_components=2)\n",
    "X_pca=pca.fit_transform(X_scaled)"
   ]
  },
  {
   "cell_type": "code",
   "execution_count": null,
   "id": "c8bbda22",
   "metadata": {},
   "outputs": [],
   "source": [
    "explained_varience=pca.explained_variance_ratio_\n",
    "print(f\"Explained Varience by PC1: {explained_varience[0]:.2f}\" )\n",
    "print(f\"Explained Varience by PC2: {explained_varience[1]:.2f}\" )"
   ]
  },
  {
   "cell_type": "code",
   "execution_count": null,
   "id": "2a23e44e",
   "metadata": {},
   "outputs": [],
   "source": [
    "plt.figure(figsize=(8,6))\n",
    "colors = ['red','green','blue']\n",
    "labels = iris.target_names\n",
    "\n",
    "for i in range(len(colors)):\n",
    "    plt.scatter(X_pca[y==i,0],X_pca[y==i,1],color=colors[i],label=labels[i])\n",
    "plt.xlabel('Principle component 1')\n",
    "plt.ylabel('Principle component 2')  \n",
    "\n",
    "plt.title('PCA on Iris dataset (Dimensionally Reduction) ')\n",
    "plt.legend()\n",
    "plt.grid()\n",
    "plt.show()"
   ]
  },
  {
   "cell_type": "code",
   "execution_count": null,
   "id": "891366cf",
   "metadata": {},
   "outputs": [],
   "source": [
    "fig=plt.figure(figsize=(10,10))\n",
    "ax = fig.add_subplot(111,projection='3d')\n",
    "pca =PCA(n_components=3)\n",
    "X_reduced_3d=pca.fit_transform(X_scaled)\n",
    "for i in range(len(colors)):\n",
    "    ax.scatter(X_reduced_3d[y==i,0],X_reduced_3d[y==i,1],X_reduced_3d[y==i,2],color=colors[i],label=labels[i])\n",
    "for i in range(3):\n",
    "    ax.quiver(0,0,0,pca.components_[i,0],pca.components_[i,1],pca.components_[i,2],color='k')\n",
    "ax.set_xlabel('Sepal length')\n",
    "ax.set_ylabel('Sepal width')  \n",
    "ax.set_zlabel('Petal length')\n",
    "ax.set_title('3D Data with Eigenvector ')\n",
    "plt.legend()\n",
    "plt.show()"
   ]
  },
  {
   "cell_type": "code",
   "execution_count": null,
   "id": "cad31c19",
   "metadata": {},
   "outputs": [],
   "source": []
  }
 ],
 "metadata": {
  "kernelspec": {
   "display_name": "Python 3 (ipykernel)",
   "language": "python",
   "name": "python3"
  },
  "language_info": {
   "codemirror_mode": {
    "name": "ipython",
    "version": 3
   },
   "file_extension": ".py",
   "mimetype": "text/x-python",
   "name": "python",
   "nbconvert_exporter": "python",
   "pygments_lexer": "ipython3",
   "version": "3.12.4"
  }
 },
 "nbformat": 4,
 "nbformat_minor": 5
}
