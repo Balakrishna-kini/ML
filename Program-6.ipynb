{
 "cells": [
  {
   "cell_type": "code",
   "execution_count": null,
   "id": "a49ab4f2",
   "metadata": {},
   "outputs": [],
   "source": [
    "import numpy as np\n",
    "import matplotlib.pyplot as plt\n",
    "from sklearn.linear_model import LinearRegression"
   ]
  },
  {
   "cell_type": "code",
   "execution_count": null,
   "id": "efd12d30",
   "metadata": {},
   "outputs": [],
   "source": [
    "def gaussian_kernel(x, x_query, tau):\n",
    "    return np.exp(-(x - x_query)**2 / (2 * tau**2))"
   ]
  },
  {
   "cell_type": "code",
   "execution_count": null,
   "id": "09668131",
   "metadata": {},
   "outputs": [],
   "source": [
    "def locally_weighted_regression(X, y, x_query, tau):\n",
    "    X_b = np.c_[np.ones(len(X)), X]  # Add bias term (intercept)\n",
    "    x_query_b = np.array([1, x_query])  # Query point with bias term\n",
    "    W = np.diag(gaussian_kernel(X, x_query, tau))  # Compute weights\n",
    "\n",
    "    # Compute theta using pseudo-inverse to avoid singular matrix\n",
    "    theta = np.linalg.pinv(X_b.T @ W @ X_b) @ X_b.T @ W @ y\n",
    "\n",
    "    return x_query_b @ theta\n",
    "\n"
   ]
  },
  {
   "cell_type": "code",
   "execution_count": null,
   "id": "41c7ba2d",
   "metadata": {},
   "outputs": [],
   "source": [
    "#any value can be taken\n",
    "X = np.array([1,2,3,4,5,6,7,8,9,10])\n",
    "y = np.array([1,3,2,4,3,5,5,6,6,5])#length of X and y must same"
   ]
  },
  {
   "cell_type": "code",
   "execution_count": null,
   "id": "db1e27dd",
   "metadata": {},
   "outputs": [],
   "source": [
    "X_query = np.linspace(1,10,100)\n",
    "#any value can be taken\n",
    "tau_values = [0.1,0.5,1.0,5.0,10.0]"
   ]
  },
  {
   "cell_type": "code",
   "execution_count": null,
   "id": "fb61877c",
   "metadata": {},
   "outputs": [],
   "source": [
    "lin_reg = LinearRegression()\n",
    "X_reshaped = X.reshape(-1, 1)\n",
    "lin_reg.fit(X_reshaped, y)\n",
    "y_lin = lin_reg.predict(X_query.reshape(-1, 1))\n"
   ]
  },
  {
   "cell_type": "code",
   "execution_count": null,
   "id": "74251e33",
   "metadata": {},
   "outputs": [],
   "source": [
    "plt.figure(figsize=(12,10))\n",
    "plt.scatter(X,y,color='blue',label='Data point')\n",
    "plt.plot(X_query,y_lin,color='black',linestyle='dashed',label='Simple Linear regression')\n",
    "\n",
    "colors = ['red', 'green', 'purple', 'orange', 'brown']\n",
    "\n",
    "for tau, color in zip(tau_values, colors):\n",
    "    y_lwr = np.array([locally_weighted_regression(X, y, x_q, tau) for x_q in X_query])\n",
    "    plt.plot(X_query, y_lwr, color=color, label=f'LWR(t={tau})')\n",
    "\n",
    "plt.title('Effect of Different Tau Values in Locally Weighted Regression')\n",
    "plt.xlabel('x')\n",
    "plt.ylabel('y')\n",
    "plt.legend()\n",
    "plt.show()"
   ]
  },
  {
   "cell_type": "code",
   "execution_count": null,
   "id": "a9431771",
   "metadata": {},
   "outputs": [],
   "source": []
  }
 ],
 "metadata": {
  "kernelspec": {
   "display_name": "Python 3 (ipykernel)",
   "language": "python",
   "name": "python3"
  },
  "language_info": {
   "codemirror_mode": {
    "name": "ipython",
    "version": 3
   },
   "file_extension": ".py",
   "mimetype": "text/x-python",
   "name": "python",
   "nbconvert_exporter": "python",
   "pygments_lexer": "ipython3",
   "version": "3.12.4"
  }
 },
 "nbformat": 4,
 "nbformat_minor": 5
}
