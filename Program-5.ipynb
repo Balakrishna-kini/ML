{
 "cells": [
  {
   "cell_type": "code",
   "execution_count": null,
   "id": "e8138cf3",
   "metadata": {},
   "outputs": [],
   "source": [
    "import numpy as np\n",
    "import pandas as pd\n",
    "import matplotlib.pyplot as plt\n",
    "import seaborn as sns\n",
    "from sklearn.model_selection import train_test_split\n",
    "from sklearn.neighbors import KNeighborsClassifier\n",
    "from sklearn.metrics import accuracy_score\n",
    "import warnings\n",
    "warnings.filterwarnings('ignore')"
   ]
  },
  {
   "cell_type": "code",
   "execution_count": null,
   "id": "d748605f",
   "metadata": {},
   "outputs": [],
   "source": [
    "#step 1: Generate dataset\n",
    "np.random.seed(42)\n",
    "values=np.random.rand(100)"
   ]
  },
  {
   "cell_type": "code",
   "execution_count": null,
   "id": "3410f3a4",
   "metadata": {},
   "outputs": [],
   "source": [
    "values"
   ]
  },
  {
   "cell_type": "code",
   "execution_count": null,
   "id": "a81a38a2",
   "metadata": {},
   "outputs": [],
   "source": [
    "labels= []\n",
    "for i in values[:50]:\n",
    "    if i<=0.5:\n",
    "        labels.append('Class1')\n",
    "    else:\n",
    "        labels.append('Class2')\n",
    "            "
   ]
  },
  {
   "cell_type": "code",
   "execution_count": null,
   "id": "4c8566ad",
   "metadata": {},
   "outputs": [],
   "source": [
    "labels+=[None] *50\n",
    "print(labels)"
   ]
  },
  {
   "cell_type": "code",
   "execution_count": null,
   "id": "cd0a1d3c",
   "metadata": {},
   "outputs": [],
   "source": [
    "data={\n",
    "    \"Point\":[f\"x{i+1}\"for i in range(100)],\n",
    "    \"Value\":values,\n",
    "    \"Label\":labels\n",
    "}"
   ]
  },
  {
   "cell_type": "code",
   "execution_count": null,
   "id": "0585b7a0",
   "metadata": {},
   "outputs": [],
   "source": [
    "df=pd.DataFrame(data)\n",
    "print(df)"
   ]
  },
  {
   "cell_type": "code",
   "execution_count": null,
   "id": "8929adb7",
   "metadata": {},
   "outputs": [],
   "source": [
    "df.shape"
   ]
  },
  {
   "cell_type": "code",
   "execution_count": null,
   "id": "e15a19d3",
   "metadata": {},
   "outputs": [],
   "source": [
    "num_col=df.select_dtypes(include=['int','float']).columns\n",
    "df[num_col].hist(figsize=(12,8),bins=30,edgecolor='black')\n",
    "plt.suptitle(\"Feature Distributions\",fontsize=16)\n",
    "plt.show()"
   ]
  },
  {
   "cell_type": "code",
   "execution_count": null,
   "id": "c39878e1",
   "metadata": {},
   "outputs": [],
   "source": [
    "#split the dataset into label or unlabeled\n",
    "labeled_df=df[df[\"Label\"].notna()]\n",
    "X_train=labeled_df[[\"Value\"]]\n",
    "y_train=labeled_df[\"Label\"]"
   ]
  },
  {
   "cell_type": "code",
   "execution_count": null,
   "id": "2be5dcb0",
   "metadata": {},
   "outputs": [],
   "source": [
    "unlabeled_df =df[df[\"Label\"].isna()]\n",
    "X_test=unlabeled_df[[\"Value\"]]"
   ]
  },
  {
   "cell_type": "code",
   "execution_count": null,
   "id": "4f9daf62",
   "metadata": {},
   "outputs": [],
   "source": [
    "#Generate true labels for testing (for accuracy calculation)\n",
    "true_labels=[\"Class1\" if x<=0.5 else \"Class2\" for x in values[50:]]"
   ]
  },
  {
   "cell_type": "code",
   "execution_count": null,
   "id": "845f9009",
   "metadata": {},
   "outputs": [],
   "source": [
    "#step 2: Perform KNN classifier  for different values of k\n",
    "k_values=[1,2,3,4,5,20,30]\n",
    "results={}  #tuple\n",
    "accuracies={}"
   ]
  },
  {
   "cell_type": "code",
   "execution_count": null,
   "id": "da8c3fca",
   "metadata": {},
   "outputs": [],
   "source": [
    "for k in k_values:\n",
    "    knn =KNeighborsClassifier(n_neighbors=k)\n",
    "    knn.fit(X_train,y_train)\n",
    "    predictions = knn.predict(X_test)\n",
    "    results[k]=predictions\n",
    "    \n",
    "    #calculate accuracy\n",
    "    accuracy=accuracy_score(true_labels,predictions)*100\n",
    "    accuracies[k]=accuracy\n",
    "    print(f\"Accuracy for k={k}: {accuracy:.2f}%\")\n",
    "    #Assign prediction back to the Dataframe for this k\n",
    "    unlabeled_df[f\"Label_k{k}\"]=predictions    \n",
    "    "
   ]
  },
  {
   "cell_type": "code",
   "execution_count": null,
   "id": "8c372c77",
   "metadata": {},
   "outputs": [],
   "source": [
    "print(predictions)"
   ]
  },
  {
   "cell_type": "code",
   "execution_count": null,
   "id": "22e50eb0",
   "metadata": {},
   "outputs": [],
   "source": [
    "df1=unlabeled_df.drop(columns=[\"Label\"],axis=1)\n",
    "df1"
   ]
  },
  {
   "cell_type": "code",
   "execution_count": null,
   "id": "6fbed43c",
   "metadata": {},
   "outputs": [],
   "source": []
  }
 ],
 "metadata": {
  "kernelspec": {
   "display_name": "Python 3 (ipykernel)",
   "language": "python",
   "name": "python3"
  },
  "language_info": {
   "codemirror_mode": {
    "name": "ipython",
    "version": 3
   },
   "file_extension": ".py",
   "mimetype": "text/x-python",
   "name": "python",
   "nbconvert_exporter": "python",
   "pygments_lexer": "ipython3",
   "version": "3.12.4"
  }
 },
 "nbformat": 4,
 "nbformat_minor": 5
}
