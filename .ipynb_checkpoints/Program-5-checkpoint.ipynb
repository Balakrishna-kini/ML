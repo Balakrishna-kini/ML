{
 "cells": [
  {
   "cell_type": "code",
   "execution_count": 1,
   "id": "e8138cf3",
   "metadata": {},
   "outputs": [],
   "source": [
    "import numpy as np\n",
    "import pandas as pd\n",
    "import matplotlib.pyplot as plt\n",
    "import seaborn as sns\n",
    "from sklearn.model_selection import train_test_split\n",
    "from sklearn.neighbors import KNeighborsClassifier\n",
    "from sklearn.metrics import accuracy_score\n",
    "import warnings\n",
    "warnings.filterwarnings('ignore')"
   ]
  },
  {
   "cell_type": "code",
   "execution_count": 2,
   "id": "d748605f",
   "metadata": {},
   "outputs": [],
   "source": [
    "#step 1: Generate dataset\n",
    "np.random.seed(42)\n",
    "values=np.random.rand(100)"
   ]
  },
  {
   "cell_type": "code",
   "execution_count": 3,
   "id": "3410f3a4",
   "metadata": {},
   "outputs": [
    {
     "data": {
      "text/plain": [
       "array([0.37454012, 0.95071431, 0.73199394, 0.59865848, 0.15601864,\n",
       "       0.15599452, 0.05808361, 0.86617615, 0.60111501, 0.70807258,\n",
       "       0.02058449, 0.96990985, 0.83244264, 0.21233911, 0.18182497,\n",
       "       0.18340451, 0.30424224, 0.52475643, 0.43194502, 0.29122914,\n",
       "       0.61185289, 0.13949386, 0.29214465, 0.36636184, 0.45606998,\n",
       "       0.78517596, 0.19967378, 0.51423444, 0.59241457, 0.04645041,\n",
       "       0.60754485, 0.17052412, 0.06505159, 0.94888554, 0.96563203,\n",
       "       0.80839735, 0.30461377, 0.09767211, 0.68423303, 0.44015249,\n",
       "       0.12203823, 0.49517691, 0.03438852, 0.9093204 , 0.25877998,\n",
       "       0.66252228, 0.31171108, 0.52006802, 0.54671028, 0.18485446,\n",
       "       0.96958463, 0.77513282, 0.93949894, 0.89482735, 0.59789998,\n",
       "       0.92187424, 0.0884925 , 0.19598286, 0.04522729, 0.32533033,\n",
       "       0.38867729, 0.27134903, 0.82873751, 0.35675333, 0.28093451,\n",
       "       0.54269608, 0.14092422, 0.80219698, 0.07455064, 0.98688694,\n",
       "       0.77224477, 0.19871568, 0.00552212, 0.81546143, 0.70685734,\n",
       "       0.72900717, 0.77127035, 0.07404465, 0.35846573, 0.11586906,\n",
       "       0.86310343, 0.62329813, 0.33089802, 0.06355835, 0.31098232,\n",
       "       0.32518332, 0.72960618, 0.63755747, 0.88721274, 0.47221493,\n",
       "       0.11959425, 0.71324479, 0.76078505, 0.5612772 , 0.77096718,\n",
       "       0.4937956 , 0.52273283, 0.42754102, 0.02541913, 0.10789143])"
      ]
     },
     "execution_count": 3,
     "metadata": {},
     "output_type": "execute_result"
    }
   ],
   "source": [
    "values"
   ]
  },
  {
   "cell_type": "code",
   "execution_count": 4,
   "id": "a81a38a2",
   "metadata": {},
   "outputs": [],
   "source": [
    "labels= []\n",
    "for i in values[:50]:\n",
    "    if i<=0.5:\n",
    "        labels.append('Class1')\n",
    "    else:\n",
    "        labels.append('Class2')\n",
    "            "
   ]
  },
  {
   "cell_type": "code",
   "execution_count": 5,
   "id": "4c8566ad",
   "metadata": {},
   "outputs": [
    {
     "name": "stdout",
     "output_type": "stream",
     "text": [
      "['Class1', 'Class2', 'Class2', 'Class2', 'Class1', 'Class1', 'Class1', 'Class2', 'Class2', 'Class2', 'Class1', 'Class2', 'Class2', 'Class1', 'Class1', 'Class1', 'Class1', 'Class2', 'Class1', 'Class1', 'Class2', 'Class1', 'Class1', 'Class1', 'Class1', 'Class2', 'Class1', 'Class2', 'Class2', 'Class1', 'Class2', 'Class1', 'Class1', 'Class2', 'Class2', 'Class2', 'Class1', 'Class1', 'Class2', 'Class1', 'Class1', 'Class1', 'Class1', 'Class2', 'Class1', 'Class2', 'Class1', 'Class2', 'Class2', 'Class1', None, None, None, None, None, None, None, None, None, None, None, None, None, None, None, None, None, None, None, None, None, None, None, None, None, None, None, None, None, None, None, None, None, None, None, None, None, None, None, None, None, None, None, None, None, None, None, None, None, None]\n"
     ]
    }
   ],
   "source": [
    "labels+=[None] *50\n",
    "print(labels)"
   ]
  },
  {
   "cell_type": "code",
   "execution_count": 6,
   "id": "cd0a1d3c",
   "metadata": {},
   "outputs": [],
   "source": [
    "data={\n",
    "    \"Point\":[f\"x{i+1}\"for i in range(100)],\n",
    "    \"Value\":values,\n",
    "    \"Label\":labels\n",
    "}"
   ]
  },
  {
   "cell_type": "code",
   "execution_count": 7,
   "id": "0585b7a0",
   "metadata": {},
   "outputs": [
    {
     "name": "stdout",
     "output_type": "stream",
     "text": [
      "   Point     Value   Label\n",
      "0     x1  0.374540  Class1\n",
      "1     x2  0.950714  Class2\n",
      "2     x3  0.731994  Class2\n",
      "3     x4  0.598658  Class2\n",
      "4     x5  0.156019  Class1\n",
      "..   ...       ...     ...\n",
      "95   x96  0.493796    None\n",
      "96   x97  0.522733    None\n",
      "97   x98  0.427541    None\n",
      "98   x99  0.025419    None\n",
      "99  x100  0.107891    None\n",
      "\n",
      "[100 rows x 3 columns]\n"
     ]
    }
   ],
   "source": [
    "df=pd.DataFrame(data)\n",
    "print(df)"
   ]
  },
  {
   "cell_type": "code",
   "execution_count": 8,
   "id": "8929adb7",
   "metadata": {},
   "outputs": [
    {
     "data": {
      "text/plain": [
       "(100, 3)"
      ]
     },
     "execution_count": 8,
     "metadata": {},
     "output_type": "execute_result"
    }
   ],
   "source": [
    "df.shape"
   ]
  },
  {
   "cell_type": "code",
   "execution_count": 9,
   "id": "e15a19d3",
   "metadata": {},
   "outputs": [
    {
     "data": {
      "image/png": "[encoded data removed]",
      "text/plain": [
       "<Figure size 864x576 with 1 Axes>"
      ]
     },
     "metadata": {
      "needs_background": "light"
     },
     "output_type": "display_data"
    }
   ],
   "source": [
    "num_col=df.select_dtypes(include=['int','float']).columns\n",
    "df[num_col].hist(figsize=(12,8),bins=30,edgecolor='black')\n",
    "plt.suptitle(\"Feature Distributions\",fontsize=16)\n",
    "plt.show()"
   ]
  },
  {
   "cell_type": "code",
   "execution_count": 10,
   "id": "c39878e1",
   "metadata": {},
   "outputs": [],
   "source": [
    "#split the dataset into label or unlabeled\n",
    "labeled_df=df[df[\"Label\"].notna()]\n",
    "X_train=labeled_df[[\"Value\"]]\n",
    "y_train=labeled_df[\"Label\"]"
   ]
  },
  {
   "cell_type": "code",
   "execution_count": 11,
   "id": "2be5dcb0",
   "metadata": {},
   "outputs": [],
   "source": [
    "unlabeled_df =df[df[\"Label\"].isna()]\n",
    "X_test=unlabeled_df[[\"Value\"]]"
   ]
  },
  {
   "cell_type": "code",
   "execution_count": 12,
   "id": "4f9daf62",
   "metadata": {},
   "outputs": [],
   "source": [
    "#Generate true labels for testing (for accuracy calculation)\n",
    "true_labels=[\"Class1\" if x<=0.5 else \"Class2\" for x in values[50:]]"
   ]
  },
  {
   "cell_type": "code",
   "execution_count": 13,
   "id": "845f9009",
   "metadata": {},
   "outputs": [],
   "source": [
    "#step 2: Perform KNN classifier  for different values of k\n",
    "k_values=[1,2,3,4,5,20,30]\n",
    "results={}  #tuple\n",
    "accuracies={}"
   ]
  },
  {
   "cell_type": "code",
   "execution_count": 14,
   "id": "da8c3fca",
   "metadata": {},
   "outputs": [
    {
     "name": "stdout",
     "output_type": "stream",
     "text": [
      "Accuracy for k=1: 100.00%\n",
      "Accuracy for k=2: 100.00%\n",
      "Accuracy for k=3: 98.00%\n",
      "Accuracy for k=4: 98.00%\n",
      "Accuracy for k=5: 98.00%\n",
      "Accuracy for k=20: 98.00%\n",
      "Accuracy for k=30: 100.00%\n"
     ]
    }
   ],
   "source": [
    "for k in k_values:\n",
    "    knn =KNeighborsClassifier(n_neighbors=k)\n",
    "    knn.fit(X_train,y_train)\n",
    "    predictions = knn.predict(X_test)\n",
    "    results[k]=predictions\n",
    "    \n",
    "    #calculate accuracy\n",
    "    accuracy=accuracy_score(true_labels,predictions)*100\n",
    "    accuracies[k]=accuracy\n",
    "    print(f\"Accuracy for k={k}: {accuracy:.2f}%\")\n",
    "    #Assign prediction back to the Dataframe for this k\n",
    "    unlabeled_df[f\"Label_k{k}\"]=predictions    \n",
    "    "
   ]
  },
  {
   "cell_type": "code",
   "execution_count": null,
   "id": "8c372c77",
   "metadata": {},
   "outputs": [],
   "source": []
  }
 ],
 "metadata": {
  "kernelspec": {
   "display_name": "Python 3",
   "language": "python",
   "name": "python3"
  },
  "language_info": {
   "codemirror_mode": {
    "name": "ipython",
    "version": 3
   },
   "file_extension": ".py",
   "mimetype": "text/x-python",
   "name": "python",
   "nbconvert_exporter": "python",
   "pygments_lexer": "ipython3",
   "version": "3.8.8"
  }
 },
 "nbformat": 4,
 "nbformat_minor": 5
}
