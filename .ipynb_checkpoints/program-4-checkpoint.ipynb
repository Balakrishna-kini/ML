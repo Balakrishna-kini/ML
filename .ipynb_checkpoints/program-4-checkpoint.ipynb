{
 "cells": [
  {
   "cell_type": "code",
   "execution_count": 1,
   "id": "35cf52a6",
   "metadata": {},
   "outputs": [],
   "source": [
    "import pandas as pd\n",
    "data1 = pd.read_csv('train_data.csv')\n"
   ]
  },
  {
   "cell_type": "code",
   "execution_count": 2,
   "id": "a15320ac",
   "metadata": {},
   "outputs": [
    {
     "name": "stdout",
     "output_type": "stream",
     "text": [
      "    Outlook Temperature      Humidity  Windy  Play Tennis\n",
      "0     Sunny         Hot          High   False          No\n",
      "1     Sunny         Hot          High    True          No\n",
      "2  Overcast         Hot          High   False         Yes\n",
      "3      Rain        Cold          High   False         Yes\n",
      "4      Rain        Cold          High    True          No\n",
      "5  Overcast         Hot          High    True         Yes\n",
      "6     Sunny         Hot          High   False          No\n"
     ]
    }
   ],
   "source": [
    "print(data1)"
   ]
  },
  {
   "cell_type": "code",
   "execution_count": 22,
   "id": "9ded4cfd",
   "metadata": {},
   "outputs": [],
   "source": [
    "def find_s_algorithm(df):\n",
    "    #Extract attributes and target values\n",
    "    attributes =data1.iloc[:,:-1].values\n",
    "    target =data1.iloc[:, -1].values\n",
    "    hypothesis = None\n",
    "    for i in range(len(target)):\n",
    "        if target[i] == \"Yes\":\n",
    "            hypothesis = attributes[i].copy()\n",
    "            break\n",
    "    #If there are no positive value         \n",
    "    if hypothesis is None:\n",
    "            return \"No positive examples found in dataset\"\n",
    "    for i in range(len(target)):\n",
    "        if target[i]=='Yes':\n",
    "            for j in range(len(hypothesis)):\n",
    "                if hypothesis[j]!=attributes[i][j]:\n",
    "                    hypothesis[j]=\"?\"\n",
    "    return hypothesis                    "
   ]
  },
  {
   "cell_type": "code",
   "execution_count": 23,
   "id": "2a785cba",
   "metadata": {},
   "outputs": [
    {
     "name": "stdout",
     "output_type": "stream",
     "text": [
      "Final Hypothesis :  ['?' '?' 'High' '?']\n"
     ]
    }
   ],
   "source": [
    "hypothesis=find_s_algorithm(data1)\n",
    "print(\"Final Hypothesis : \",hypothesis)\n",
    "    "
   ]
  },
  {
   "cell_type": "code",
   "execution_count": null,
   "id": "4bdbeb11",
   "metadata": {},
   "outputs": [],
   "source": []
  }
 ],
 "metadata": {
  "kernelspec": {
   "display_name": "Python 3",
   "language": "python",
   "name": "python3"
  },
  "language_info": {
   "codemirror_mode": {
    "name": "ipython",
    "version": 3
   },
   "file_extension": ".py",
   "mimetype": "text/x-python",
   "name": "python",
   "nbconvert_exporter": "python",
   "pygments_lexer": "ipython3",
   "version": "3.8.8"
  }
 },
 "nbformat": 4,
 "nbformat_minor": 5
}
