{
 "cells": [
  {
   "cell_type": "code",
   "execution_count": null,
   "id": "90d5d3e8",
   "metadata": {},
   "outputs": [],
   "source": [
    "import pandas as pd\n",
    "import matplotlib.pyplot as plt \n"
   ]
  },
  {
   "cell_type": "code",
   "execution_count": null,
   "id": "16aef8ce",
   "metadata": {},
   "outputs": [],
   "source": [
    "url=\"https://raw.githubusercontent.com/ageron/handson-ml/master/datasets/housing/housing.csv\"\n",
    "housing=pd.read_csv(url)"
   ]
  },
  {
   "cell_type": "code",
   "execution_count": null,
   "id": "5ee37307",
   "metadata": {},
   "outputs": [],
   "source": [
    "housing.tail()\n"
   ]
  },
  {
   "cell_type": "code",
   "execution_count": null,
   "id": "66330096",
   "metadata": {},
   "outputs": [],
   "source": [
    "housing.hist(bins=10,figsize=(50,50))\n",
    "plt.suptitle(\"Histograms of Numerical Features\")\n",
    "plt.show()\n"
   ]
  },
  {
   "cell_type": "code",
   "execution_count": null,
   "id": "38d21f80",
   "metadata": {},
   "outputs": [],
   "source": [
    "housing.plot(kind='box',subplots=True,layout=(3,3),figsize=(20,20),sharex=False,sharey=False)\n",
    "plt.suptitle(\"Box plots of Numerical Features\")\n",
    "plt.show()\n"
   ]
  },
  {
   "cell_type": "code",
   "execution_count": null,
   "id": "dd082185",
   "metadata": {},
   "outputs": [],
   "source": [
    "print(\"Descrpitive Statistics:\\n\")\n",
    "print(housing.describe())"
   ]
  },
  {
   "cell_type": "code",
   "execution_count": null,
   "id": "becec4e0",
   "metadata": {
    "scrolled": true
   },
   "outputs": [],
   "source": [
    "for column in housing.select_dtypes(include=['float64','int64']).columns:\n",
    "        Q1=housing[column].quantile(0.25)\n",
    "        Q3=housing[column].quantile(0.75)\n",
    "        IQR=Q3-Q1\n",
    "        lower_bound = Q1 - 1.5 * IQR\n",
    "        upper_bound = Q3 + 1.5 * IQR\n",
    "        outliers = housing[(housing[column]<lower_bound) |  (housing[column] > upper_bound)]\n",
    "        print(f\"\\outliers in {column}:\\n\",outliers[column])"
   ]
  },
  {
   "cell_type": "code",
   "execution_count": null,
   "id": "e3051376",
   "metadata": {},
   "outputs": [],
   "source": []
  }
 ],
 "metadata": {
  "kernelspec": {
   "display_name": "Python 3 (ipykernel)",
   "language": "python",
   "name": "python3"
  },
  "language_info": {
   "codemirror_mode": {
    "name": "ipython",
    "version": 3
   },
   "file_extension": ".py",
   "mimetype": "text/x-python",
   "name": "python",
   "nbconvert_exporter": "python",
   "pygments_lexer": "ipython3",
   "version": "3.12.4"
  }
 },
 "nbformat": 4,
 "nbformat_minor": 5
}
